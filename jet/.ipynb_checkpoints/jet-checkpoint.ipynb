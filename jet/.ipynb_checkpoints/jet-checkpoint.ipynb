{
 "metadata": {
  "language_info": {
   "codemirror_mode": {
    "name": "ipython",
    "version": 3
   },
   "file_extension": ".py",
   "mimetype": "text/x-python",
   "name": "python",
   "nbconvert_exporter": "python",
   "pygments_lexer": "ipython3",
   "version": "3.8.2-final"
  },
  "orig_nbformat": 2,
  "kernelspec": {
   "name": "python_defaultSpec_1598402547258",
   "display_name": "Python 3.8.2 64-bit"
  }
 },
 "nbformat": 4,
 "nbformat_minor": 2,
 "cells": [
  {
   "cell_type": "markdown",
   "metadata": {},
   "source": [
    "Lista 1\n",
    "Exercicio 1\n",
    "\n",
    "Uma industria de turbinas tem uma unidade em estoque. Os contratos assinados para entrega de turbinas durante os proximos quatro meses totalizam, respectivamente, 2, 1, 1 e 0 turbinas. A empresa deseja ficar com uma turbina em estoque para o inıcio do quinto mes, o que requer que 4 turbinas sejam fabricadas durante os proximos quatro meses. A capacidade maximade produ̧cao mensal e de duas turbinas e os custos de producao para 0, 1, e 2 turbinas sao, respectivamente de 10, 17 e 20 unidades monetarias. A capacidade maxima do estoque e de 2 turbinas e os custos de ter 0, 1 e 2 unidades em estoque no inıcio de um determinado mes sao, respectivamente, de 0, 3 e 7 unidades monetarias. Encontre por programacao dinamica a estrategia de producao que minimiza os custos de producao e estoque para os proximos quatro meses."
   ]
  },
  {
   "cell_type": "code",
   "execution_count": 17,
   "metadata": {},
   "outputs": [],
   "source": [
    "# Demandas para cada mes\n",
    "demands = [2, 1, 1, 0]\n",
    "\n",
    "# Estoque no inicio do mes 4\n",
    "X_4 = 1\n",
    "\n",
    "# Estoque no inicio do mes 0\n",
    "X_0 = 1\n",
    "\n",
    "# Producao mensal em potencial\n",
    "U_k = [0, 1, 2]"
   ]
  },
  {
   "cell_type": "code",
   "execution_count": 18,
   "metadata": {},
   "outputs": [],
   "source": [
    "#Funcoes auxiliares\n",
    "\n",
    "def get_jet_prodution_cost(units_to_be_produced):\n",
    "    if units_to_be_produced == 0:\n",
    "        return 10\n",
    "    elif units_to_be_produced == 1:\n",
    "        return 17\n",
    "    else:\n",
    "        return 20\n",
    "\n",
    "def get_jet_storage_cost(current_stock):\n",
    "    if current_stock == 0:\n",
    "        return 0\n",
    "    elif current_stock == 1:\n",
    "        return 3\n",
    "    else:\n",
    "        return 7\n",
    "\n",
    "# fk(xk,uk)\n",
    "def get_final_jet_stock(month, in_stock_units, produced_units):\n",
    "    return in_stock_units + produced_units - demands[month]"
   ]
  },
  {
   "cell_type": "code",
   "execution_count": 19,
   "metadata": {},
   "outputs": [],
   "source": [
    "def dp(month, in_stock_units, costs, choices):\n",
    "    if month == 4:\n",
    "        # Caso base (sem recursao)\n",
    "        if in_stock_units != X_4:\n",
    "            # Caso cheguemos no mes 4 com estoque diferente de X_4, retornamos infactivel\n",
    "            return -1\n",
    "        else:\n",
    "            return get_jet_storage_cost(in_stock_units)\n",
    "    else:\n",
    "        \n",
    "        cost_min = 99999999999999999999 # F_aux <- inf\n",
    "        u_min = 99999999999999999999 # U_oaux <- inf\n",
    "\n",
    "        for produced_units in U_k: # for ∀uk ∈ Uk do\n",
    "\n",
    "            final_stock = get_final_jet_stock(month, in_stock_units, produced_units)  # x_k+1 = f_k(xk, uk)\n",
    "\n",
    "            if final_stock > 2 or final_stock < 0:\n",
    "                # se x_k+1 é infactivel, desconsideramos\n",
    "                continue\n",
    "            else:\n",
    "                onward_cost = dp(month + 1, final_stock, costs, choices) # calculo de F(x_k+1)\n",
    "                if onward_cost < 0:\n",
    "                    # se x_k+1 como estado final é infactivel, desconsideramos\n",
    "                    continue\n",
    "                else:\n",
    "                    cost = get_jet_storage_cost(final_stock) + get_jet_prodution_cost(produced_units) + onward_cost # Fx_aux ← ek(xk,uk) + F(xk+1)\n",
    "                    if cost < cost_min:\n",
    "                        cost_min = cost # F_aux <- Fx_aux\n",
    "                        u_min = produced_units # U_oaux <- u_k\n",
    "\n",
    "        if u_min == 99999999999999999999:\n",
    "            # Dado U_k, nao foi encontrado nenhum x_k+1 factivel\n",
    "            return -1\n",
    "        else:\n",
    "            # Salvamos F(x_k) e u_k otimos no dicionario\n",
    "            costs[(month, in_stock_units)] = cost_min\n",
    "            choices[(month, in_stock_units)] = u_min\n",
    "            return cost_min\n",
    "\n"
   ]
  },
  {
   "cell_type": "code",
   "execution_count": 20,
   "metadata": {
    "tags": []
   },
   "outputs": [
    {
     "output_type": "stream",
     "name": "stdout",
     "text": "Mes   Estoque   Turbinas a serem produzidas       Custo otimo acumulado\n  3         0 -> 1                                23\n  3         1 -> 0                                16\n  2         0 -> 2                                39\n  2         1 -> 0                                33\n  1         0 -> 1                                56\n  2         2 -> 0                                29\n  1         1 -> 0                                49\n  0         1 -> 2                                72\n"
    }
   ],
   "source": [
    "# Incilaiza dicionarios de custos acumulados e escolhas otimas\n",
    "costs_ = {}\n",
    "choices_ = {}\n",
    "\n",
    "# Execucao do algoritmo\n",
    "dp(0, X_0, costs_, choices_)\n",
    "\n",
    "# Print de todas as escolhas otimas calculadas\n",
    "print(\"Mes   Estoque   Turbinas a serem produzidas       Custo otimo acumulado\")\n",
    "for choice in choices_:\n",
    "    print(\"  {}         {} -> {}                                {}\".format(choice[0], choice[1], choices_[choice], costs_[choice]))"
   ]
  },
  {
   "cell_type": "code",
   "execution_count": 21,
   "metadata": {
    "tags": []
   },
   "outputs": [],
   "source": [
    "# Recuperacao da tragetoria otima\n",
    "def reconstruct_solution(month, in_stock_units, choices_):\n",
    "    while month != 4:\n",
    "        choice = choices_[(month, in_stock_units)] # uk = π(x∗k)\n",
    "        print(\"  {}         {} -> {}\".format(month, in_stock_units, choice))\n",
    "        in_stock_units = in_stock_units + choice - demands[month] # x_k+1 = fk(x_k,u_k)\n",
    "        month += 1\n",
    "    print(\"  {}         {} -> DONE\".format(month, in_stock_units))"
   ]
  },
  {
   "cell_type": "code",
   "execution_count": 22,
   "metadata": {
    "tags": []
   },
   "outputs": [
    {
     "output_type": "stream",
     "name": "stdout",
     "text": "Mes   Estoque   Turbinas a serem produzidas\n  0         1 -> 2\n  1         1 -> 0\n  2         0 -> 2\n  3         1 -> 0\n  4         1 -> DONE\nCusto otimo acumulado em X_0 = 72\n"
    }
   ],
   "source": [
    "print(\"Mes   Estoque   Turbinas a serem produzidas\")\n",
    "reconstruct_solution(0, X_0, choices_)\n",
    "\n",
    "print(\"Custo otimo acumulado em X_0 =\", costs_[(0, 1)])"
   ]
  },
  {
   "cell_type": "code",
   "execution_count": null,
   "metadata": {},
   "outputs": [],
   "source": []
  }
 ]
}