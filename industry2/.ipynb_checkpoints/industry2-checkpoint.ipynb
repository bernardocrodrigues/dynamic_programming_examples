{
 "metadata": {
  "language_info": {
   "codemirror_mode": {
    "name": "ipython",
    "version": 3
   },
   "file_extension": ".py",
   "mimetype": "text/x-python",
   "name": "python",
   "nbconvert_exporter": "python",
   "pygments_lexer": "ipython3",
   "version": "3.8.2-final"
  },
  "orig_nbformat": 2,
  "kernelspec": {
   "name": "python_defaultSpec_1598473628918",
   "display_name": "Python 3.8.2 64-bit"
  }
 },
 "nbformat": 4,
 "nbformat_minor": 2,
 "cells": [
  {
   "cell_type": "markdown",
   "metadata": {},
   "source": [
    "Lista 1\n",
    "Exercicio 4\n",
    "\n",
    "A capacidade maxima de producao de uma industria e de 3 componentes mensais. Os custos unitarios de producao para os proximos tres meses sao, respectivamente, de 3, 5 e 3 unidades monetarias, para os meses 1, 2 e 3. O estoque no inicio do primeiro mes e de 1 componente. As demandas a serem atendidas nos meses 1 e 2 sao, respectivamente, de 2 e 4 componentes. No mes 3 ha uma probabilidade de 60% da demanda ser de 1 componente e uma probbilidade de 40% dademanda ser de 2 componentes. A capacidade maxima do estoque e de 4 componentes e o custo unitario por componente em estoque no inicio do mes e de 1 unidade monetaria."
   ]
  },
  {
   "cell_type": "code",
   "execution_count": 220,
   "metadata": {},
   "outputs": [],
   "source": [
    "# Demandas para cada mes\n",
    "demands = [ [(2, 1.0)],             # 100% de chance para 2\n",
    "            [(4, 1.0)],             # 100% de chance para 4\n",
    "            [(1, 0.6), (2, 0.4)] ]  # 60% de chance para 1 e 40% para 2\n",
    "\n",
    "# Custo de producao por unidade em cada mes\n",
    "production_cost = [3, 5, 3]\n",
    "\n",
    "# Estoque no inicio do mes 0 (assumido)\n",
    "X_0 = 1\n",
    "\n",
    "MAX_PRODUCTION = 3\n",
    "MAX_STOCK = 4\n",
    "\n",
    "# Producao mensal em potencial\n",
    "U_k = [0, 1, 2, 3]"
   ]
  },
  {
   "cell_type": "code",
   "execution_count": 221,
   "metadata": {},
   "outputs": [],
   "source": [
    "#Funcoes auxiliares\n",
    "\n",
    "def get_prodution_cost(units_to_be_produced, month):\n",
    "    return production_cost[month] * units_to_be_produced\n",
    "\n",
    "def get_stock_cost(units_in_stock):\n",
    "    return units_in_stock\n",
    "\n",
    "# fk(xk,uk)\n",
    "def get_final_stock(month, in_stock_units, produced_units):\n",
    "    return in_stock_units + produced_units - demands[month]"
   ]
  },
  {
   "cell_type": "code",
   "execution_count": 222,
   "metadata": {},
   "outputs": [],
   "source": [
    "def dp(month, in_stock_units, costs, choices):\n",
    "\n",
    "    if month == 3:\n",
    "        # Caso base (sem recursao)\n",
    "        return get_stock_cost(in_stock_units)\n",
    "    else:\n",
    "        cost_min    = 99999999999999999999  # F_aux <- inf\n",
    "        u_min       = 99999999999999999999  # U_oaux <- inf\n",
    "        for produced_units in U_k:  # for ∀uk ∈ Uk do\n",
    "\n",
    "            cost = 0                        # Fxu_aux <- 0\n",
    "            has_some_feasable_state     = False # Variavel aux. que modela se esse u_k, dado todas w_k, possui algum estado factivel\n",
    "            has_some_infeasable_state   = False # Variavel aux. que modela se esse u_k, dado todas w_k, possui algum estado infactivel\n",
    "            for possibility in demands[month]:\n",
    "\n",
    "                possible_demand     = possibility[0]\n",
    "                associated_chance   = possibility[1]\n",
    "                potencial_final_stock = in_stock_units + produced_units - possible_demand # x_k+1 = fk(x_k,u_k,w_k)\n",
    "\n",
    "                if 0 <= potencial_final_stock <= MAX_STOCK:\n",
    "                    # combinação de u_k e w_k leva a estado factivel\n",
    "                    onward_cost = dp(month + 1, potencial_final_stock, costs, choices)\n",
    "                    if onward_cost >= 0:\n",
    "                        # se x_k+1 como estado final é infactivel, desconsideramos\n",
    "                        has_some_feasable_state = True\n",
    "                        cost = associated_chance * (get_prodution_cost(produced_units, month) + get_stock_cost(potencial_final_stock) + onward_cost) + cost\n",
    "                else:\n",
    "                    # combinação de u_k e w_k leva a estado infactivel\n",
    "                    has_some_infeasable_state = True\n",
    "\n",
    "            if cost < cost_min and has_some_feasable_state and not(has_some_infeasable_state):\n",
    "                # pegamos somente os caminhos que tem algum potencial e nao possuem chance de infactibilidade\n",
    "                cost_min = cost\n",
    "                u_min = produced_units\n",
    "\n",
    "        if u_min == 99999999999999999999:\n",
    "            # Dado U_k, nao foi encontrado nenhum x_k+1 factivel\n",
    "            return -1\n",
    "        else:\n",
    "            # Salvamos F(x_k) e u_k otimos no dicionario\n",
    "            costs[(month, in_stock_units)] = cost_min\n",
    "            choices[(month, in_stock_units)] = u_min\n",
    "            return cost_min\n"
   ]
  },
  {
   "cell_type": "code",
   "execution_count": 223,
   "metadata": {
    "tags": []
   },
   "outputs": [
    {
     "output_type": "stream",
     "name": "stdout",
     "text": "Mes   Estoque   Unidades a serem produzidas     Custo otimo acumulado\n  2         0 ->                          2     7.2\n  1         1 ->                          3     22.2\n  2         1 ->                          1     4.2\n  1         2 ->                          2     17.2\n  0         1 ->                          3     28.2\n"
    }
   ],
   "source": [
    "costs_ = {}\n",
    "choices_ = {}\n",
    "\n",
    "# Execucao do algoritmo a partir de estado inicial X_0\n",
    "dp(0, X_0, costs_, choices_)\n",
    "\n",
    "print(\"Mes   Estoque   Unidades a serem produzidas     Custo otimo acumulado\")\n",
    "for choice in choices_:\n",
    "    print(\"  {}         {} ->                          {}     {}\".format(choice[0], choice[1], choices_[choice], costs_[choice]))\n"
   ]
  },
  {
   "cell_type": "code",
   "execution_count": null,
   "metadata": {},
   "outputs": [],
   "source": []
  }
 ]
}