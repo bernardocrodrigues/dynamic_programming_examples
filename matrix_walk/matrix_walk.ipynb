{
 "cells": [
  {
   "cell_type": "markdown",
   "metadata": {},
   "source": [
    "Lista 1 Exercicio 2\n",
    "\n",
    "Suponha que uma particula pode se mover atraves da matriz, uma coluna para a direita ou uma linha para baixo de cada vez, mas os dois movimentos nao sao permitidos de forma simultanea. Deseja-se mover a partıcula do canto superioresquerdo para o canto inferior direito com uma sequencia desses movimentos, deforma a minimizar a soma dos numeros inteiros encontrados no percurso (observeque sao necessarios 7 movimentos unitarios, 4 para a direita e 3 para baixo)."
   ]
  },
  {
   "cell_type": "code",
   "execution_count": 49,
   "metadata": {},
   "outputs": [],
   "source": [
    "field = [[0, 4, 3, 6, 4], \n",
    "         [7, 8, 6, 8, 8],\n",
    "         [2, 3, 1, 8, 7],\n",
    "         [6, 2, 9, 3, 0]]\n",
    "\n",
    "MAX_X = 4\n",
    "MAX_Y = 3\n",
    "\n",
    "# Escolhas em potencial\n",
    "U_k = [\"down \", \"right\"]"
   ]
  },
  {
   "cell_type": "code",
   "execution_count": 50,
   "metadata": {},
   "outputs": [],
   "source": [
    "#Funcoes auxiliares\n",
    "\n",
    "# fk(xk,uk)\n",
    "def get_new_position(position, choice):\n",
    "    if choice == \"down \":\n",
    "        return (position[0] + 1, position[1])\n",
    "    else:\n",
    "        return (position[0], position[1] + 1)\n"
   ]
  },
  {
   "cell_type": "code",
   "execution_count": 51,
   "metadata": {},
   "outputs": [],
   "source": [
    "def dp(position, costs, choices):\n",
    "    if position == (3,4):\n",
    "        # Caso base (sem recursao)\n",
    "        return field[3][4]\n",
    "    else:\n",
    "        cost_min    = 99999999999999999999  # F_aux <- inf\n",
    "        u_min       = 99999999999999999999  # U_oaux <- inf\n",
    "        for choice in U_k:  # for ∀uk ∈ Uk do\n",
    "            new_position = get_new_position(position, choice) # x_k+1 = f_k(xk, uk)\n",
    "\n",
    "            if new_position[0] > MAX_Y or new_position[1] > MAX_X:\n",
    "                # se x_k+1 é infactivel, desconsideramos\n",
    "                continue\n",
    "            else:\n",
    "                onward_cost = dp(new_position, costs, choices) # calculo de F(x_k+1)\n",
    "                if onward_cost < 0:\n",
    "                    # se x_k+1 como estado final é infactivel, desconsideramos\n",
    "                    continue\n",
    "                else:\n",
    "                    cost = onward_cost + field[position[0]][position[1]] # Fx_aux ← ek(xk,uk) + F(xk+1)\n",
    "                    if cost < cost_min:\n",
    "                        cost_min = cost # F_aux <- Fx_aux\n",
    "                        u_min = choice # U_oaux <- u_k\n",
    "\n",
    "    if u_min == 99999999999999999999:\n",
    "        # Dado U_k, nao foi encontrado nenhum x_k+1 factivel\n",
    "        return -1\n",
    "    else:\n",
    "        # Salvamos F(x_k) e u_k otimos no dicionario\n",
    "        costs[position] = cost_min\n",
    "        choices[position] = u_min\n",
    "        return cost_min"
   ]
  },
  {
   "cell_type": "markdown",
   "metadata": {},
   "source": [
    "O proximo algoritmo é semanticamente identico ao anterior a nao ser pelo momento onde checamos se o X_k atual ja nao foi calculado. No caso dele ja ter sido calculado, retornamos o valor imediatamente, se nao, partimos para o seu calculo. Essa otimizao melhora drasticamente a complexidade computacional do algoritmo."
   ]
  },
  {
   "cell_type": "code",
   "execution_count": 52,
   "metadata": {},
   "outputs": [],
   "source": [
    "def dp_memoized(position, costs, choices):\n",
    "    if position == (3,4):\n",
    "        return field[3][4]\n",
    "    else:\n",
    "        if position in costs:\n",
    "            # checamos se esse X_k ja nao foi calculado, e retornamos\n",
    "            return costs[position]\n",
    "        else:\n",
    "            cost_min = 99999999999999999999\n",
    "            u_min = 99999999999999999999\n",
    "            for choice in U_k:\n",
    "                new_position = get_new_position(position, choice) # x_k+1 = f_k(xk, uk)\n",
    "                if new_position[0] > MAX_Y or new_position[1] > MAX_X:\n",
    "                    continue\n",
    "                else:\n",
    "                    onward_cost = dp_memoized(new_position, costs, choices) # calculo de F(x_k+1)\n",
    "                    if onward_cost < 0:\n",
    "                        continue\n",
    "                    else:\n",
    "                        cost = onward_cost + field[position[0]][position[1]]\n",
    "                    if cost < cost_min:\n",
    "                        cost_min = cost\n",
    "                        u_min = choice\n",
    "        if u_min == 99999999999999999999:\n",
    "            return -1\n",
    "        else:\n",
    "            costs[position] = cost_min\n",
    "            choices[position] = u_min\n",
    "            return cost_min\n"
   ]
  },
  {
   "cell_type": "code",
   "execution_count": 63,
   "metadata": {},
   "outputs": [],
   "source": [
    "# Recuperacao da tragetoria otima\n",
    "def reconstruct_solution(x, choices_):\n",
    "\n",
    "    while x != (3,4):\n",
    "        choice = choices_[x]\n",
    "        print(\"{} -> {}\".format(x, choice))\n",
    "\n",
    "        if choice == \"down \":\n",
    "            x = (x[0] + 1, x[1])\n",
    "        else:\n",
    "            x = (x[0], x[1] + 1)\n",
    "\n",
    "    print(\"{} -> DONE\".format(x))\n",
    "\n",
    "        "
   ]
  },
  {
   "cell_type": "code",
   "execution_count": 69,
   "metadata": {
    "tags": []
   },
   "outputs": [
    {
     "name": "stdout",
     "output_type": "stream",
     "text": [
      "Razao entre tempos de execucao do algoritmo canonico e memorizado: 0.44940152339499456\n",
      "Posicao   Escolha   Custo otimo acumulado\n",
      "(3, 3)    right     3\n",
      "(3, 2)    right     12\n",
      "(3, 1)    right     14\n",
      "(3, 0)    right     20\n",
      "(2, 4)    down      7\n",
      "(2, 3)    down      11\n",
      "(2, 2)    right     12\n",
      "(2, 1)    right     15\n",
      "(2, 0)    right     17\n",
      "(1, 4)    down      15\n",
      "(1, 3)    down      19\n",
      "(1, 2)    down      18\n",
      "(1, 1)    down      23\n",
      "(1, 0)    down      24\n",
      "(0, 4)    down      19\n",
      "(0, 3)    down      25\n",
      "(0, 2)    down      21\n",
      "(0, 1)    right     25\n",
      "(0, 0)    down      24\n"
     ]
    }
   ],
   "source": [
    "import time\n",
    "\n",
    "costs_ = {}\n",
    "choices_ = {}\n",
    "start_time = time.time()\n",
    "dp((0,0), costs_, choices_)\n",
    "first_time = time.time() - start_time\n",
    "\n",
    "costs_ = {}\n",
    "choices_ = {}\n",
    "start_time = time.time()\n",
    "dp_memoized((0,0), costs_, choices_)\n",
    "second_time = time.time() - start_time\n",
    "\n",
    "print(\"Razao entre tempos de execucao do algoritmo canonico e memorizado: {}\".format(second_time/first_time))\n",
    "\n",
    "print(\"Posicao   Escolha   Custo otimo acumulado\")\n",
    "for choice in choices_:\n",
    "    print(\"{}    {}     {}\".format(choice, choices_[choice], costs_[choice]))\n"
   ]
  },
  {
   "cell_type": "code",
   "execution_count": 70,
   "metadata": {
    "tags": []
   },
   "outputs": [
    {
     "name": "stdout",
     "output_type": "stream",
     "text": [
      "Posicao   Escolha\n",
      "(0, 0) -> down \n",
      "(1, 0) -> down \n",
      "(2, 0) -> right\n",
      "(2, 1) -> right\n",
      "(2, 2) -> right\n",
      "(2, 3) -> down \n",
      "(3, 3) -> right\n",
      "(3, 4) -> DONE\n",
      "Custo otimo acumulado em X_0 = 24\n"
     ]
    }
   ],
   "source": [
    "print(\"Posicao   Escolha\")\n",
    "reconstruct_solution((0,0), choices_)\n",
    "print(\"Custo otimo acumulado em X_0 =\", costs_[(0,0)])\n"
   ]
  }
 ],
 "metadata": {
  "kernelspec": {
   "display_name": "Python 3",
   "language": "python",
   "name": "python3"
  },
  "language_info": {
   "codemirror_mode": {
    "name": "ipython",
    "version": 3
   },
   "file_extension": ".py",
   "mimetype": "text/x-python",
   "name": "python",
   "nbconvert_exporter": "python",
   "pygments_lexer": "ipython3",
   "version": "3.8.2"
  }
 },
 "nbformat": 4,
 "nbformat_minor": 4
}
