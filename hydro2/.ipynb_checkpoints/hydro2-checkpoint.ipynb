{
 "metadata": {
  "language_info": {
   "codemirror_mode": {
    "name": "ipython",
    "version": 3
   },
   "file_extension": ".py",
   "mimetype": "text/x-python",
   "name": "python",
   "nbconvert_exporter": "python",
   "pygments_lexer": "ipython3",
   "version": "3.8.2-final"
  },
  "orig_nbformat": 2,
  "kernelspec": {
   "name": "python_defaultSpec_1598576697075",
   "display_name": "Python 3.8.2 64-bit"
  }
 },
 "nbformat": 4,
 "nbformat_minor": 2,
 "cells": [
  {
   "cell_type": "markdown",
   "metadata": {},
   "source": [
    "Planejamento da Produção de Energia Elétrica 2"
   ]
  },
  {
   "cell_type": "code",
   "execution_count": 241,
   "metadata": {
    "tags": []
   },
   "outputs": [],
   "source": [
    "#                          Jan.  Feb.  Mar.  Apr.  May   Jun.  Jul.  Aug.  Sep.  Oct.  Nov.  Dec.\n",
    "demands                 = [3600, 3300, 3000, 3200, 3400, 3600, 3700, 3300, 3400, 3600, 3900, 4000] # in [MW * Month]\n",
    "avg_flow_rate_AVermelha = [3899, 3202, 2953, 2600, 1671, 1271, 1045, 972,  792,  790,  1139, 1589] # in [(m^3)/s]\n",
    "avg_flow_rate_ISolteira = [5208, 4486, 6405, 4194, 2632, 2262, 1822, 1585, 1379, 1457, 2378, 2591] # in [(m^3)/s]\n",
    "\n",
    "# Hydro Power plant characteristics\n",
    "MAX_PRODUCTION_AVermelha = 1380   # in [MW * Month]\n",
    "MAX_PRODUCTION_ISolteira = 3230   # in [MW * Month]\n",
    "\n",
    "# Reservoir characteristics\n",
    "X_MAX_ISolteira   = 21200         # in [10^6 m^3]\n",
    "X_MIN_ISolteira   = 12800         # in [10^6 m^3]\n",
    "X_FINAL_ISolteira = 15000         # in [10^6 m^3]\n",
    "\n",
    "X_MAX_AVermelha   = 11000         # in [10^6 m^3]\n",
    "X_MIN_AVermelha   = 4400          # in [10^6 m^3]\n",
    "X_FINAL_AVermelha = 8000          # in [10^6 m^3]\n",
    "\n",
    "DRENAGE_MAX = 8000     # in [(m^3)/s]\n",
    "U_MAX_ISolteira       = 7955      # in [(m^3)/s]\n",
    "U_MIN_ISolteira       = 1400      # in [(m^3)/s]\n",
    "U_MAX_AVermelha       = 2710      # in [(m^3)/s]\n",
    "U_MIN_AVermelha       = 475      # in [(m^3)/s]\n",
    "\n",
    "N_COEF_AVermelha    = 0.88\n",
    "N_COEF_ISolteira    = 0.89\n",
    "GRAVITY_ACC_COEF    = 9.88 # in [m/s^2]\n",
    "\n",
    "MONTHS_TO_CALCULATE = 12"
   ]
  },
  {
   "cell_type": "code",
   "execution_count": 242,
   "metadata": {},
   "outputs": [],
   "source": [
    "# Generators\n",
    "\n",
    "def U_k_ISolteira():\n",
    "    step = 100   # u_k's vão de 10 em 10\n",
    "    num = U_MIN_ISolteira\n",
    "    while num < DRENAGE_MAX:\n",
    "        yield num\n",
    "        num += step\n",
    "     \n",
    "def U_k_AVermelha():\n",
    "    step = 100   # u_k's vão de 10 em 10\n",
    "    num = U_MIN_AVermelha\n",
    "    while num < DRENAGE_MAX:\n",
    "        yield num\n",
    "        num += step     "
   ]
  },
  {
   "cell_type": "code",
   "execution_count": 243,
   "metadata": {},
   "outputs": [],
   "source": [
    "#Funcoes auxiliares\n",
    "\n",
    "def get_thermal_production_cost(g):\n",
    "    return int(64.8 * (g**2))\n",
    "\n",
    "# x is the reservoir volume in [10^6 m^3]\n",
    "def h_1_ISolteira(x):\n",
    "    return 303.04 + (0.15519e-2 * x) - (0.17377e-7 * x**2)\n",
    "\n",
    "def h_2_ISolteira(u):\n",
    "    return 279.84 + (0.22130e-3 * u)\n",
    "\n",
    "def h_1_AVermelha(x):\n",
    "    return 355.53 + (0.36268e-2 * x) - (0.10090e-6 * x**2)\n",
    "\n",
    "def h_2_AVermelha(u):\n",
    "    return 319.91 + (0.15882e-2 * u)\n",
    "\n",
    "def h_ISolteira(x,u):\n",
    "    p = N_COEF_ISolteira * GRAVITY_ACC_COEF * 1e-3\n",
    "\n",
    "    considered_u = u\n",
    "    if u > U_MAX_ISolteira:\n",
    "        considered_u = U_MAX_ISolteira\n",
    "    elif u < U_MIN_ISolteira:\n",
    "        considered_u = 0\n",
    "\n",
    "    power_generariton = p * (h_1_ISolteira(x)-h_2_ISolteira(u)) * u\n",
    "    return int(power_generariton) if power_generariton < MAX_PRODUCTION_ISolteira else MAX_PRODUCTION_ISolteira\n",
    "\n",
    "def h_AVermelha(x,u):\n",
    "    p = N_COEF_AVermelha * GRAVITY_ACC_COEF * 1e-3\n",
    "\n",
    "    considered_u = u\n",
    "    if u > U_MAX_AVermelha:\n",
    "        considered_u = U_MAX_AVermelha\n",
    "    elif u < U_MIN_AVermelha:\n",
    "        considered_u = 0\n",
    "\n",
    "    power_generariton = p * (h_1_AVermelha(x)-h_2_AVermelha(u)) * u\n",
    "    return int(power_generariton) if power_generariton < MAX_PRODUCTION_AVermelha else MAX_PRODUCTION_AVermelha\n",
    "\n",
    "def get_operation_cost(hydro_production, demand):\n",
    "    if demand > hydro_production:\n",
    "        return get_thermal_production_cost(demand - hydro_production)\n",
    "    else:\n",
    "        return 0\n",
    "\n",
    "# fk(xk,uk)\n",
    "def get_reservoir_volume(current_volume, water_out, water_in):\n",
    "    return int(current_volume + (2.628 * (water_in - water_out)))\n",
    "\n"
   ]
  },
  {
   "cell_type": "code",
   "execution_count": 245,
   "metadata": {},
   "outputs": [],
   "source": [
    "def dp(month, current_reservoir_volume_ISolteira, current_reservoir_volume_AVermelha, costs_, choices_):\n",
    "    if month == MONTHS_TO_CALCULATE:\n",
    "        # Caso base (sem recursao)\n",
    "        if current_reservoir_volume_ISolteira < X_FINAL_ISolteira or current_reservoir_volume_AVermelha < X_FINAL_AVermelha:  # Condição final de factibiliade\n",
    "            return -1                           # Estado infactivel (-1 representa infactibilidade) \n",
    "        else:\n",
    "            return 0                            # Estado factivel\n",
    "    else:\n",
    "\n",
    "        key = (month, current_reservoir_volume_ISolteira, current_reservoir_volume_AVermelha)\n",
    "\n",
    "        if key in costs_:                   # verifica se esse estado ja não foi calculado e retorna\n",
    "            return costs_[key]\n",
    "\n",
    "        cost_min = 9999999999999999999999   # F_aux <- inf\n",
    "        u_min    = 9999999999999999999999   # U_oaux <- inf\n",
    "\n",
    "        for u_k_AVermelha in U_k_AVermelha():               # for ∀uk ∈ Uk do\n",
    "            new_reservoir_volume_AVermelha = get_reservoir_volume(current_reservoir_volume_AVermelha, u_k_AVermelha, avg_flow_rate_AVermelha[month])\n",
    "            if X_MIN_AVermelha < new_reservoir_volume_AVermelha < X_MAX_AVermelha:    # Verifica factibilidade do estado x_k+1\n",
    "                for u_k_ISolteira in U_k_ISolteira():           # for ∀uk ∈ Uk do\n",
    "                    new_reservoir_volume_ISolteira = get_reservoir_volume(current_reservoir_volume_ISolteira, u_k_ISolteira, avg_flow_rate_ISolteira[month] + u_k_AVermelha)\n",
    "                    if X_MIN_ISolteira < new_reservoir_volume_ISolteira < X_MAX_ISolteira:    # Verifica factibilidade do estado x_k+1\n",
    "                        onward_cost = dp(month + 1, new_reservoir_volume_ISolteira, new_reservoir_volume_AVermelha, costs_, choices_) # calculo de F(x_k+1)\n",
    "                        if onward_cost < 0: # se x_k+1 como estado final é infactivel, desconsideramos\n",
    "                            continue\n",
    "                        combined_production = h_ISolteira(current_reservoir_volume_ISolteira, u_k_ISolteira) + h_AVermelha(current_reservoir_volume_AVermelha, u_k_AVermelha)\n",
    "\n",
    "                        cost = get_operation_cost(combined_production, demands[month]) + onward_cost\n",
    "\n",
    "                        if cost < cost_min:\n",
    "                            cost_min = cost\n",
    "                            u_min = (u_k_AVermelha, u_k_ISolteira)\n",
    "\n",
    "        if u_min == 9999999999999999999999:\n",
    "            return -1\n",
    "        else:\n",
    "            costs_[key] = cost_min\n",
    "            choices_[key] = u_min\n",
    "            return cost_min"
   ]
  },
  {
   "cell_type": "code",
   "execution_count": 246,
   "metadata": {
    "tags": []
   },
   "outputs": [
    {
     "output_type": "stream",
     "name": "stdout",
     "text": "1780.901816368103\n"
    }
   ],
   "source": [
    "import time\n",
    "\n",
    "# Dicionarios para carregar custos otimos acumulados e escolhas otimas. Inves de ter um par de dicionarios por estado k, o estado k foi adicionado como uma das dimensões de X. Por Exemplo, a tupla (3, 16000) mapeia o estado X_3 = 16000\n",
    "costs_      = {}\n",
    "choices_    = {}\n",
    "\n",
    "start_time = time.time()\n",
    "\n",
    "# Execução do algoritmo a partir do estado inicial\n",
    "dp(0, 15000, 8000, costs_, choices_)\n",
    "\n",
    "time = time.time() - start_time\n",
    "\n",
    "print(time)"
   ]
  },
  {
   "cell_type": "code",
   "execution_count": 286,
   "metadata": {},
   "outputs": [],
   "source": [
    "# Recuperacao da tragetoria otima\n",
    "def reconstruct_solution(month, current_reservoir_volume_ISolteira, current_reservoir_volume_AVermelha, choices_, costs_):\n",
    "\n",
    "    while month != MONTHS_TO_CALCULATE:\n",
    "\n",
    "        key = (month, current_reservoir_volume_ISolteira, current_reservoir_volume_AVermelha)\n",
    "\n",
    "        choice = choices_[key]\n",
    "        u_k_AVermelha = choice[0]\n",
    "        u_k_ISolteira = choice[1]\n",
    "\n",
    "        print(\"{:2}     {:5}      {:5}     {:4}         {:4}         {:4}          {:4}          {:4}        {:4}       {}\"\n",
    "            .format(month, \n",
    "                    current_reservoir_volume_AVermelha, \n",
    "                    current_reservoir_volume_ISolteira,\n",
    "                    avg_flow_rate_AVermelha[month],\n",
    "                    avg_flow_rate_ISolteira[month] + u_k_AVermelha,\n",
    "                    u_k_AVermelha,\n",
    "                    u_k_ISolteira,\n",
    "                    h_ISolteira(current_reservoir_volume_ISolteira, u_k_ISolteira) + h_AVermelha(current_reservoir_volume_AVermelha, u_k_AVermelha),\n",
    "                    demands[month],\n",
    "                    costs_[key]\n",
    "                    ))\n",
    "\n",
    "        current_reservoir_volume_AVermelha = get_reservoir_volume(current_reservoir_volume_AVermelha, u_k_AVermelha, avg_flow_rate_AVermelha[month])\n",
    "        current_reservoir_volume_ISolteira = get_reservoir_volume(current_reservoir_volume_ISolteira, u_k_ISolteira, avg_flow_rate_ISolteira[month] + u_k_AVermelha)\n",
    "\n",
    "        month += 1\n",
    "\n",
    "    print(\"{:2}     {:5}      {:5}\".format(month, current_reservoir_volume_AVermelha, current_reservoir_volume_ISolteira))"
   ]
  },
  {
   "cell_type": "code",
   "execution_count": 287,
   "metadata": {
    "tags": []
   },
   "outputs": [
    {
     "output_type": "stream",
     "name": "stdout",
     "text": "Mes    Res. AV.   Res. IS.  Vaz. IN AV.  Vaz. IN IS.  Vaz. OUT AV.  Vaz. OUT IS   Produzido   Demanda    Custo Ó. A.\n 0      8000      15000     3899         7983         2775          6900          3787        3600       1168614148\n 1     10953      17846     3202         7761         3275          7900          4409        3300       1168614148\n 2     10761      17480     2953         9280         2875          7900          4385        3000       1168614148\n 3     10965      21106     2600         6869         2675          6900          4204        3200       1168614148\n 4     10767      21024     1671         4307         1675          4300          2662        3400       1168614148\n 5     10756      21042     1271         3537         1275          3500          2133        3600       1133321217\n 6     10745      21139     1045         3097         1275          3100          1971        3700       993865850\n 7     10140      21131      972         2560          975          2600          1601        3300       800150074\n 8     10132      21025      792         2654         1275          2600          1751        3400       613098330\n 9      8862      21166      790         2932         1475          3000          1992        3600       436894106\n10      7061      20987     1139         4053         1675          4000          2440        3900       269343079\n11      5652      21126     1589         3266          675          5500          2577        4000       131215399\n12      8053      15255\n"
    }
   ],
   "source": [
    "print(\"Mes    Res. AV.   Res. IS.  Vaz. IN AV.  Vaz. IN IS.  Vaz. OUT AV.  Vaz. OUT IS   Produzido   Demanda    Custo Ó. A.\")\n",
    "reconstruct_solution(0, 15000, 8000, choices_, costs_)"
   ]
  },
  {
   "cell_type": "code",
   "execution_count": null,
   "metadata": {},
   "outputs": [],
   "source": []
  }
 ]
}