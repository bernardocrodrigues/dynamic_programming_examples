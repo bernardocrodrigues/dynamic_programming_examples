{
 "cells": [
  {
   "cell_type": "markdown",
   "metadata": {},
   "source": [
    "Um exemplo de aplicação de PD mostrado em https://www.youtube.com/watch?v=ENyox7kNKeY. O problema consiste em calcular os melhores pontos para quebra de linha em um texto corrido, maximizando um coeficiente de beleza. Supostamente um algoritmo parecido é usado no Latex e no Microsoft Word."
   ]
  },
  {
   "cell_type": "code",
   "execution_count": 17,
   "metadata": {
    "tags": []
   },
   "outputs": [
    {
     "name": "stdout",
     "output_type": "stream",
     "text": [
      "['Lorem', 'ipsum', 'dolor', 'sit', 'amet,', 'consectetur', 'adipiscing', 'elit.', 'Nulla', 'id', 'sem', 'eu', 'augue', 'pretium', 'maximus.', 'Fusce', 'venenatis', 'condimentum', 'eros', 'eu', 'viverra.', 'Aliquam', 'quis', 'efficitur', 'nisl,', 'a', 'dapibus', 'ex.', 'Vestibulum', 'aliquam', 'nunc', 'id', 'arcu', 'tristique', 'ultrices.', 'Duis', 'rhoncus', 'efficitur', 'purus', 'ac', 'porttitor.', 'Praesent', 'metus', 'purus,', 'congue', 'a', 'viverra', 'nec,', 'efficitur', 'in', 'ex', 'Lorem', 'ipsum', 'dolor', 'sit', 'amet,', 'consectetur', 'adipiscing', 'elit.', 'Nulla', 'id', 'sem', 'eu', 'augue', 'pretium', 'maximus.', 'Fusce', 'venenatis', 'condimentum', 'eros', 'eu', 'viverra.', 'Aliquam', 'quis', 'efficitur', 'nisl,', 'a', 'dapibus', 'ex.', 'Vestibulum', 'aliquam', 'nunc', 'id', 'arcu', 'tristique', 'ultrices.', 'Duis', 'rhoncus', 'efficitur', 'purus', 'ac', 'porttitor.', 'Praesent', 'metus', 'purus,', 'congue', 'a', 'viverra', 'nec,', 'efficitur', 'in', 'ex']\n"
     ]
    }
   ],
   "source": [
    "text = \"Lorem ipsum dolor sit amet, consectetur adipiscing elit. Nulla id sem eu augue pretium maximus. Fusce venenatis condimentum eros eu viverra. Aliquam quis efficitur nisl, a dapibus ex. Vestibulum aliquam nunc id arcu tristique ultrices. Duis rhoncus efficitur purus ac porttitor. Praesent metus purus, congue a viverra nec, efficitur in ex Lorem ipsum dolor sit amet, consectetur adipiscing elit. Nulla id sem eu augue pretium maximus. Fusce venenatis condimentum eros eu viverra. Aliquam quis efficitur nisl, a dapibus ex. Vestibulum aliquam nunc id arcu tristique ultrices. Duis rhoncus efficitur purus ac porttitor. Praesent metus purus, congue a viverra nec, efficitur in ex\".split(\" \")\n",
    "print(text)"
   ]
  },
  {
   "cell_type": "code",
   "execution_count": 18,
   "metadata": {},
   "outputs": [],
   "source": [
    "text_width = 30"
   ]
  },
  {
   "cell_type": "code",
   "execution_count": 19,
   "metadata": {},
   "outputs": [],
   "source": [
    "def greedy_justification(tokens, length):\n",
    "    justified_text = \"\"\n",
    "    \n",
    "    current_line_length = 0\n",
    "    for token in tokens:\n",
    "        if (current_line_length + len(token) <= text_width):\n",
    "            justified_text += token + \" \"\n",
    "            current_line_length += len(token)\n",
    "        else:\n",
    "            justified_text +=\"\\n\"+token\n",
    "            current_line_length = len(token)\n",
    "    \n",
    "    return justified_text\n",
    "    "
   ]
  },
  {
   "cell_type": "code",
   "execution_count": 20,
   "metadata": {
    "tags": []
   },
   "outputs": [
    {
     "name": "stdout",
     "output_type": "stream",
     "text": [
      "Lorem ipsum dolor sit amet, \n",
      "consecteturadipiscing elit. \n",
      "Nullaid sem eu augue pretium \n",
      "maximus.Fusce venenatis \n",
      "condimentumeros eu viverra. \n",
      "Aliquamquis efficitur nisl, a \n",
      "dapibusex. Vestibulum aliquam \n",
      "nuncid arcu tristique ultrices. \n",
      "Duisrhoncus efficitur purus ac \n",
      "porttitor.Praesent metus purus, \n",
      "conguea viverra nec, efficitur in \n",
      "exLorem ipsum dolor sit amet, \n",
      "consecteturadipiscing elit. \n",
      "Nullaid sem eu augue pretium \n",
      "maximus.Fusce venenatis \n",
      "condimentumeros eu viverra. \n",
      "Aliquamquis efficitur nisl, a \n",
      "dapibusex. Vestibulum aliquam \n",
      "nuncid arcu tristique ultrices. \n",
      "Duisrhoncus efficitur purus ac \n",
      "porttitor.Praesent metus purus, \n",
      "conguea viverra nec, efficitur in \n",
      "ex\n"
     ]
    }
   ],
   "source": [
    "print(greedy_justification(text, text_width))"
   ]
  },
  {
   "cell_type": "code",
   "execution_count": 21,
   "metadata": {},
   "outputs": [],
   "source": [
    "def badness(text_slice, text_width):\n",
    "    splice_lenght  = sum(len(token) + 1 for token in text_slice)\n",
    "     \n",
    "    if splice_lenght > text_width:\n",
    "        return -1;\n",
    "    else:\n",
    "        return pow((text_width - splice_lenght), 3)"
   ]
  },
  {
   "cell_type": "code",
   "execution_count": null,
   "metadata": {},
   "outputs": [],
   "source": [
    "def dp(text, i, text_width, parent_pointers):\n",
    "    if i > len(text):\n",
    "        return 0;\n",
    "    else:\n",
    "        minimal_comulative_badness = -1\n",
    "        minimal_split_postision = -1\n",
    "\n",
    "        for j in range(i + 1, len(text) + 1):\n",
    "            \n",
    "            current_badness = badness(text[i : j], text_width)\n",
    "            \n",
    "            if current_badness > 0:\n",
    "                current_comulative_badness = dp(text, j, text_width, parent_pointers) + badness(text[i : j], text_width)\n",
    "                if minimal_comulative_badness == -1:\n",
    "                    minimal_split_postision = j\n",
    "                    minimal_comulative_badness = current_comulative_badness\n",
    "                elif  current_comulative_badness < minimal_comulative_badness:\n",
    "                    minimal_split_postision = j\n",
    "                    minimal_comulative_badness = current_comulative_badness\n",
    "\n",
    "        parent_pointers[i] = minimal_split_postision\n",
    "        return minimal_comulative_badness"
   ]
  },
  {
   "cell_type": "code",
   "execution_count": null,
   "metadata": {},
   "outputs": [],
   "source": [
    "parent_pointers = {}\n",
    "dp(text[:30], 0, text_width, parent_pointers)\n",
    "print(parent_pointers, memo_dictionay)"
   ]
  },
  {
   "cell_type": "code",
   "execution_count": 22,
   "metadata": {},
   "outputs": [],
   "source": [
    "def reconstruct_text(text, parent_pointers):\n",
    "    reconstructed_text = \"\"\n",
    "    current_split = parent_pointers[0]\n",
    "    old_split = 0\n",
    "    while old_split != current_split:\n",
    "        \n",
    "        if current_split == -1:\n",
    "            break\n",
    "        \n",
    "        reconstructed_text += \" \".join(text[old_split:current_split]) + \"\\n\"\n",
    "        old_split = current_split\n",
    "        current_split = parent_pointers[current_split]\n",
    "        \n",
    "    return reconstructed_text   "
   ]
  },
  {
   "cell_type": "code",
   "execution_count": null,
   "metadata": {},
   "outputs": [],
   "source": [
    "print(reconstruct_text(text, parent_pointers))"
   ]
  },
  {
   "cell_type": "code",
   "execution_count": 23,
   "metadata": {},
   "outputs": [],
   "source": [
    " \n",
    "def memoized_dp(text, i, text_width, parent_pointers, memo_dictionay):\n",
    "    if i > len(text):\n",
    "        return 0;\n",
    "    else:\n",
    "        \n",
    "        if i in memo_dictionay:\n",
    "            return memo_dictionay[i]\n",
    "        else:\n",
    "            minimal_comulative_badness = -1\n",
    "            minimal_split_postision = -1\n",
    "\n",
    "            for j in range(i + 1, len(text) + 1):\n",
    "\n",
    "                current_badness = badness(text[i : j], text_width)\n",
    "\n",
    "                if current_badness > 0:\n",
    "                    current_comulative_badness = memoized_dp(text, j, text_width, parent_pointers, memo_dictionay) + badness(text[i : j], text_width)\n",
    "                    if minimal_comulative_badness == -1:\n",
    "                        minimal_split_postision = j\n",
    "                        minimal_comulative_badness = current_comulative_badness\n",
    "                    elif  current_comulative_badness < minimal_comulative_badness:\n",
    "                        minimal_split_postision = j\n",
    "                        minimal_comulative_badness = current_comulative_badness\n",
    "\n",
    "            parent_pointers[i] = minimal_split_postision\n",
    "            memo_dictionay[i] = minimal_comulative_badness\n",
    "            return minimal_comulative_badness"
   ]
  },
  {
   "cell_type": "code",
   "execution_count": 24,
   "metadata": {},
   "outputs": [
    {
     "name": "stdout",
     "output_type": "stream",
     "text": [
      "{102: -1, 101: 102, 100: 102, 99: 102, 98: 102, 97: 102, 96: 99, 95: 98, 94: 98, 93: 97, 92: 95, 91: 94, 90: 93, 89: 93, 88: 91, 87: 91, 86: 89, 85: 88, 84: 87, 83: 86, 82: 86, 81: 85, 80: 84, 79: 83, 78: 82, 77: 80, 76: 80, 75: 79, 74: 78, 73: 77, 72: 76, 71: 74, 70: 74, 69: 73, 68: 72, 67: 70, 66: 69, 65: 68, 64: 67, 63: 67, 62: 66, 61: 65, 60: 65, 59: 64, 58: 64, 57: 60, 56: 58, 55: 58, 54: 57, 53: 57, 52: 56, 51: 56, 50: 55, 49: 55, 48: 53, 47: 52, 46: 50, 45: 49, 44: 48, 43: 47, 42: 46, 41: 45, 40: 43, 39: 42, 38: 42, 37: 40, 36: 40, 35: 38, 34: 37, 33: 36, 32: 35, 31: 35, 30: 34, 29: 33, 28: 32, 27: 31, 26: 29, 25: 29, 24: 28, 23: 27, 22: 26, 21: 25, 20: 23, 19: 23, 18: 22, 17: 21, 16: 19, 15: 18, 14: 17, 13: 16, 12: 16, 11: 15, 10: 14, 9: 14, 8: 13, 7: 13, 6: 9, 5: 7, 4: 7, 3: 6, 2: 6, 1: 5, 0: 5} {102: -1, 101: 19682, 100: 13823, 99: 2743, 98: 728, 97: 0, 96: 6118, 95: 2925, 94: 944, 93: 512, 92: 3437, 91: 1008, 90: 855, 89: 513, 88: 2339, 87: 1035, 86: 856, 85: 2682, 84: 1160, 83: 981, 82: 864, 81: 3025, 80: 1889, 79: 1008, 78: 872, 77: 2232, 76: 2014, 75: 2008, 74: 936, 73: 2575, 72: 2015, 71: 1448, 70: 1061, 69: 2700, 68: 2016, 67: 1088, 66: 2708, 65: 2141, 64: 1431, 63: 1089, 62: 2772, 61: 2870, 60: 2357, 59: 1943, 58: 1439, 57: 2700, 56: 1782, 55: 1440, 54: 3212, 53: 2708, 52: 2294, 51: 1790, 50: 1565, 49: 1448, 48: 2716, 47: 2321, 46: 1629, 45: 1573, 44: 3228, 43: 2537, 42: 2141, 41: 1574, 40: 2601, 39: 2484, 38: 2142, 37: 3932, 36: 2628, 35: 2485, 34: 4275, 33: 2753, 32: 2610, 31: 2493, 30: 4618, 29: 3482, 28: 2637, 27: 2501, 26: 3825, 25: 3607, 24: 3637, 23: 2565, 22: 4168, 21: 3608, 20: 3077, 19: 2690, 18: 4293, 17: 3609, 16: 2717, 15: 4301, 14: 3734, 13: 3060, 12: 2718, 11: 4365, 10: 4463, 9: 3950, 8: 3572, 7: 3068, 6: 4293, 5: 3411, 4: 3069, 3: 4805, 2: 4301, 1: 3923, 0: 3419}\n"
     ]
    }
   ],
   "source": [
    "parent_pointers = {}\n",
    "memo_dictionay = {} \n",
    "memoized_dp(text, 0, text_width, parent_pointers, memo_dictionay)\n",
    "print(parent_pointers, memo_dictionay)"
   ]
  },
  {
   "cell_type": "code",
   "execution_count": 25,
   "metadata": {},
   "outputs": [
    {
     "name": "stdout",
     "output_type": "stream",
     "text": [
      "Lorem ipsum dolor sit amet,\n",
      "consectetur adipiscing\n",
      "elit. Nulla id sem eu augue\n",
      "pretium maximus. Fusce\n",
      "venenatis condimentum eros\n",
      "eu viverra. Aliquam quis\n",
      "efficitur nisl, a dapibus\n",
      "ex. Vestibulum aliquam nunc\n",
      "id arcu tristique ultrices.\n",
      "Duis rhoncus efficitur\n",
      "purus ac porttitor. Praesent\n",
      "metus purus, congue a\n",
      "viverra nec, efficitur in\n",
      "ex Lorem ipsum dolor sit\n",
      "amet, consectetur adipiscing\n",
      "elit. Nulla id sem eu augue\n",
      "pretium maximus. Fusce\n",
      "venenatis condimentum eros\n",
      "eu viverra. Aliquam quis\n",
      "efficitur nisl, a dapibus\n",
      "ex. Vestibulum aliquam nunc\n",
      "id arcu tristique ultrices.\n",
      "Duis rhoncus efficitur\n",
      "purus ac porttitor. Praesent\n",
      "metus purus, congue a\n",
      "viverra nec, efficitur in ex\n",
      "\n"
     ]
    }
   ],
   "source": [
    "print(reconstruct_text(text, parent_pointers))"
   ]
  },
  {
   "cell_type": "code",
   "execution_count": null,
   "metadata": {},
   "outputs": [],
   "source": []
  }
 ],
 "metadata": {
  "kernelspec": {
   "display_name": "Python 3",
   "language": "python",
   "name": "python3"
  },
  "language_info": {
   "codemirror_mode": {
    "name": "ipython",
    "version": 3
   },
   "file_extension": ".py",
   "mimetype": "text/x-python",
   "name": "python",
   "nbconvert_exporter": "python",
   "pygments_lexer": "ipython3",
   "version": "3.8.2"
  }
 },
 "nbformat": 4,
 "nbformat_minor": 4
}
