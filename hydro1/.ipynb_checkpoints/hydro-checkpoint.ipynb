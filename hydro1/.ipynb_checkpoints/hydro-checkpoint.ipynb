{
 "metadata": {
  "language_info": {
   "codemirror_mode": {
    "name": "ipython",
    "version": 3
   },
   "file_extension": ".py",
   "mimetype": "text/x-python",
   "name": "python",
   "nbconvert_exporter": "python",
   "pygments_lexer": "ipython3",
   "version": "3.8.2-final"
  },
  "orig_nbformat": 2,
  "kernelspec": {
   "name": "python_defaultSpec_1598574559836",
   "display_name": "Python 3.8.2 64-bit"
  }
 },
 "nbformat": 4,
 "nbformat_minor": 2,
 "cells": [
  {
   "cell_type": "code",
   "execution_count": 39,
   "metadata": {
    "tags": []
   },
   "outputs": [],
   "source": [
    "#                 Jan.  Feb.  Mar.  Apr.  May   Jun.  Jul.  Aug.  Sep.  Oct.  Nov.  Dec.\n",
    "demands =        [2800, 2500, 2300, 2500, 2600, 2800, 2800, 2600, 2600, 2800, 3000, 3100] # in [MW * Month]\n",
    "avg_flow_rate =  [9017, 7688, 9358, 6794, 4303, 3533, 2867, 2557, 2171, 2247, 3517, 4180] # in [(m^3)/s]\n",
    "\n",
    "# Hydro Power plant characteristics\n",
    "MAX_PRODUCTION = 3230   # in [MW * Month]\n",
    "\n",
    "# Reservoir characteristics\n",
    "X_MAX   = 21200         # in [10^6 m^3]\n",
    "X_MIN   = 12800         # in [10^6 m^3]\n",
    "X_FINAL = 15000         # in [10^6 m^3]\n",
    "\n",
    "DRENAGE_MAX = 8000     # in [(m^3)/s]\n",
    "U_MAX       = 7955      # in [(m^3)/s]\n",
    "U_MIN       = 1400      # in [(m^3)/s]\n",
    "\n",
    "N_COEF  = 0.88\n",
    "GRAVITY_ACC_COEF = 9.88 # in [m/s^2]\n",
    "\n",
    "MONTHS_TO_CALCULATE = 12"
   ]
  },
  {
   "cell_type": "code",
   "execution_count": 40,
   "metadata": {},
   "outputs": [],
   "source": [
    "# Generators\n",
    "\n",
    "def U_k():\n",
    "    step = 10   # u_k's vão de 10 em 10\n",
    "    num = U_MIN\n",
    "    while num < DRENAGE_MAX:\n",
    "        yield num\n",
    "        num += step     "
   ]
  },
  {
   "cell_type": "code",
   "execution_count": 41,
   "metadata": {},
   "outputs": [],
   "source": [
    "#Funcoes auxiliares\n",
    "\n",
    "def get_thermal_production_cost(g):\n",
    "    return int(64.8 * (g**2))\n",
    "\n",
    "# x is the reservoir volume in [10^6 m^3]\n",
    "def h_1(x):\n",
    "    return 303.04 + (0.15519e-2 * x) - (0.17377e-7 * x**2)\n",
    "\n",
    "def h_2(u):\n",
    "    return 279.84 + (0.22130e-3 * u)\n",
    "\n",
    "def h(x,u):\n",
    "    p = N_COEF * GRAVITY_ACC_COEF * 1e-3\n",
    "\n",
    "    considered_u = u\n",
    "    if u > U_MAX:\n",
    "        considered_u = U_MAX\n",
    "    elif u < U_MIN:\n",
    "        considered_u = 0\n",
    "\n",
    "    power_generariton = p * (h_1(x)-h_2(u)) * u\n",
    "    return int(power_generariton) if power_generariton < MAX_PRODUCTION else MAX_PRODUCTION\n",
    "\n",
    "def get_operation_cost(hydro_production, demand):\n",
    "    if demand > hydro_production:\n",
    "        return get_thermal_production_cost(demand - hydro_production)\n",
    "    else:\n",
    "        return 0\n",
    "\n",
    "# fk(xk,uk)\n",
    "def get_reservoir_volume(current_volume, water_out, water_in):\n",
    "    return int(current_volume + (2.628 * (water_in - water_out)))\n",
    "\n"
   ]
  },
  {
   "cell_type": "code",
   "execution_count": 42,
   "metadata": {
    "tags": []
   },
   "outputs": [
    {
     "output_type": "stream",
     "name": "stdout",
     "text": "Valores de teste\n\nCalculo do custo de produção termoeletrica\nPordução    Custo\n10          R$6480 \n100         R$648000 \n500         R$16200000 \n1000        R$64800000 \n2000        R$259200000 \n\nCalculo de volume do reservatorio\nVolume atual    Vazão de entrada    Vazão de saida    Volume Final\n15000           1000                1000              15000\n15000           1200                1000              14474\n15000           1000                1200              15525\n\nCalculo de produção hidroeletrica\nVolume atual    Vazão de egolimento    Produção [MW*Mes]\n12800           1400                   485\n15000           5000                   1802\n21200           7955                   3218\n"
    }
   ],
   "source": [
    "\n",
    "print(\"Valores de teste\\n\")\n",
    "\n",
    "print(\"Calculo do custo de produção termoeletrica\")\n",
    "print(\"Pordução    Custo\")\n",
    "print(\"{}          R${} \".format(10, get_thermal_production_cost(10)))\n",
    "print(\"{}         R${} \".format(100, get_thermal_production_cost(100)))\n",
    "print(\"{}         R${} \".format(500, get_thermal_production_cost(500)))\n",
    "print(\"{}        R${} \".format(1000, get_thermal_production_cost(1000)))\n",
    "print(\"{}        R${} \".format(2000, get_thermal_production_cost(2000)))\n",
    "\n",
    "print(\"\\nCalculo de volume do reservatorio\")\n",
    "print(\"Volume atual    Vazão de entrada    Vazão de saida    Volume Final\")\n",
    "print(\"{}           {}                {}              {}\".format(15000, 1000, 1000, get_reservoir_volume(15000, 1000, 1000)))\n",
    "print(\"{}           {}                {}              {}\".format(15000, 1200, 1000, get_reservoir_volume(15000, 1200, 1000)))\n",
    "print(\"{}           {}                {}              {}\".format(15000, 1000, 1200, get_reservoir_volume(15000, 1000, 1200)))\n",
    "\n",
    "print(\"\\nCalculo de produção hidroeletrica\")\n",
    "print(\"Volume atual    Vazão de egolimento    Produção [MW*Mes]\")\n",
    "print(\"{}           {}                   {}\".format(X_MIN, U_MIN, h(X_MIN, U_MIN)))\n",
    "print(\"{}           {}                   {}\".format(15000, 5000, h(15000, 5000)))\n",
    "print(\"{}           {}                   {}\".format(X_MAX, U_MAX, h(X_MAX, U_MAX)))\n"
   ]
  },
  {
   "cell_type": "code",
   "execution_count": 43,
   "metadata": {},
   "outputs": [],
   "source": [
    "def dp(month, current_reservoir_volume, costs_, choices_):\n",
    "    if month == MONTHS_TO_CALCULATE:\n",
    "        # Caso base (sem recursao)\n",
    "        if current_reservoir_volume < X_FINAL:  # Condição final de factibiliade\n",
    "            return -1                           # Estado infactivel (-1 representa infactibilidade) \n",
    "        else:\n",
    "            return 0                            # Estado factivel\n",
    "    else:\n",
    "\n",
    "\n",
    "        if (month, current_reservoir_volume) in costs_:         # verifica se esse estado ja não foi calculado e retorna\n",
    "            return costs_[(month, current_reservoir_volume)]\n",
    "\n",
    "\n",
    "        cost_min = 9999999999999999999999   # F_aux <- inf\n",
    "        u_min    = 9999999999999999999999   # U_oaux <- inf\n",
    "\n",
    "        for u_k in U_k():                   # for ∀uk ∈ Uk do\n",
    "\n",
    "            new_reservoir_volume = get_reservoir_volume(current_reservoir_volume, \n",
    "                                                        u_k, \n",
    "                                                        avg_flow_rate[month])\n",
    "\n",
    "            if X_MIN < new_reservoir_volume < X_MAX:    # Verifica factibilidade do estado x_k+1\n",
    "                onward_cost = dp(month + 1, new_reservoir_volume, costs_, choices_) # calculo de F(x_k+1)\n",
    "\n",
    "                if onward_cost < 0: # se x_k+1 como estado final é infactivel, desconsideramos\n",
    "                    continue\n",
    "\n",
    "                cost = get_operation_cost(h(current_reservoir_volume, u_k), \n",
    "                                          demands[month]) + onward_cost\n",
    "\n",
    "                if cost < cost_min:\n",
    "                    cost_min = cost\n",
    "                    u_min = u_k\n",
    "\n",
    "        if u_min == 9999999999999999999999:\n",
    "            return -1\n",
    "        else:\n",
    "            costs_[(month, current_reservoir_volume)] = cost_min\n",
    "            choices_[(month, current_reservoir_volume)] = u_min\n",
    "            return cost_min"
   ]
  },
  {
   "cell_type": "code",
   "execution_count": 44,
   "metadata": {
    "tags": []
   },
   "outputs": [
    {
     "output_type": "execute_result",
     "data": {
      "text/plain": "1028978248"
     },
     "metadata": {},
     "execution_count": 44
    }
   ],
   "source": [
    "# Dicionarios para carregar custos otimos acumulados e escolhas otimas. Inves de ter um par de dicionarios por estado k, o estado k foi adicionado como uma das dimensões de X. Por Exemplo, a tupla (3, 16000) mapeia o estado X_3 = 16000\n",
    "costs_      = {}\n",
    "choices_    = {}\n",
    "\n",
    "# Execução do algoritmo a partir do estado inicial\n",
    "dp(0, 15000, costs_, choices_)"
   ]
  },
  {
   "cell_type": "code",
   "execution_count": 45,
   "metadata": {},
   "outputs": [],
   "source": [
    "# Recuperacao da tragetoria otima\n",
    "def reconstruct_solution(month, current_reservoir_volume, choices_, costs_):\n",
    "\n",
    "    while month != MONTHS_TO_CALCULATE:\n",
    "        choice = choices_[(month, current_reservoir_volume)]\n",
    "\n",
    "        print(\"{:2}   {:6}          {:4}               {:4}             {:4}            {:4}       {}\"\n",
    "            .format(month, \n",
    "                    current_reservoir_volume, \n",
    "                    avg_flow_rate[month], \n",
    "                    choice, h(current_reservoir_volume, choice), \n",
    "                    demands[month], \n",
    "                    costs_[(month, current_reservoir_volume)]))\n",
    "\n",
    "        current_reservoir_volume = get_reservoir_volume(current_reservoir_volume, \n",
    "                                                           choice, \n",
    "                                                           avg_flow_rate[month])\n",
    "\n",
    "        month += 1\n",
    "\n",
    "    print(\"{:2}   {:6}\".format(month, current_reservoir_volume))"
   ]
  },
  {
   "cell_type": "code",
   "execution_count": 46,
   "metadata": {
    "tags": []
   },
   "outputs": [
    {
     "output_type": "stream",
     "name": "stdout",
     "text": "Mes   Reservatorio   Vazao de entrada   Vazao de saida   Enegia Gerada   Demanda    Custo Ótimo Acumulado\n 0    15000          9017               7890             2800            2800       1028978248\n 1    17961          7688               7830             2977            2500       1028978248\n 2    17587          9358               7990             3011            2300       1028978248\n 3    21182          6794               6790             2761            2500       1028978248\n 4    21192          4303               4300             1769            2600       1028978248\n 5    21199          3533               3540             1462            2800       984229896\n 6    21180          2867               2860             1184            2800       868222085\n 7    21198          2557               2560             1062            2600       698999737\n 8    21190          2171               2190              910            2600       545718966\n 9    21140          2247               2930             1212            2800       360643686\n10    19345          3517               4100             1633            3000       197234675\n11    17812          4180               5250             2016            3100       76143628\n12    15000\n"
    }
   ],
   "source": [
    "print(\"Mes   Reservatorio   Vazao de entrada   Vazao de saida   Enegia Gerada   Demanda    Custo Ótimo Acumulado\")\n",
    "reconstruct_solution(0, 15000, choices_, costs_)"
   ]
  }
 ]
}