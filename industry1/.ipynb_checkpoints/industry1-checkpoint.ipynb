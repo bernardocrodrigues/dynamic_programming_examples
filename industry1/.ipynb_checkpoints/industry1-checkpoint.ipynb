{
 "cells": [
  {
   "cell_type": "markdown",
   "metadata": {},
   "source": [
    "Lista 1\n",
    "Exercicio 3\n",
    "\n",
    "A capacidade maxima de producao de uma industria e de 3 componentes mensais. Os custos unitarios de producao para os proximos tres meses sao, respectivamente, de 3, 5 e 3 unidades monetarias, para os meses 1, 2 e 3. O custo de mudar o nıvel de producao de um mes para o outro e de 2 unidades monetarias, por unidadede acrescimo ou reducao na producao. O estoque no inicio do primeiro mes e de 1 componente e a producao no mes anterior foi tambem de 1 componente.  Asdemandas a serem atendidas nos meses 1, 2 e 3 s ̃ao, respectivamente, de 2, 4 e 1 componentes. A capacidade maxima do estoque e de 4 componentes e o custo unitario por componente em estoque no inicio do mes e de 1 unidade monetaria."
   ]
  },
  {
   "cell_type": "code",
   "execution_count": 70,
   "metadata": {},
   "outputs": [],
   "source": [
    "# Demandas para cada mes\n",
    "demands = [2, 4, 1]\n",
    "\n",
    "# Custo de producao por unidade em cada mes\n",
    "production_cost = [3, 5, 3, 0]\n",
    "\n",
    "# Estoque no inicio do mes 0\n",
    "X_0 = 1\n",
    "\n",
    "# Producao no inicio do mes 0\n",
    "P_0 = 1\n",
    "\n",
    "MAX_PRODUCTION = 3\n",
    "MAX_STOCK = 4\n",
    "\n",
    "# Producao mensal em potencial\n",
    "U_k = [0, 1, 2, 3]"
   ]
  },
  {
   "cell_type": "code",
   "execution_count": 71,
   "metadata": {},
   "outputs": [],
   "source": [
    "def get_prodution_cost(units_to_be_produced, month):\n",
    "    return production_cost[month] * units_to_be_produced\n",
    "\n",
    "def get_prodution_change_cost(units_being_produced, units_to_be_produced):\n",
    "    return 2 * abs(units_being_produced - units_to_be_produced)\n",
    "\n",
    "def get_stock_cost(units_in_stock):\n",
    "    return units_in_stock\n",
    "\n",
    "def get_final_stock(month, in_stock_units, produced_units):\n",
    "    return in_stock_units + produced_units - demands[month]"
   ]
  },
  {
   "cell_type": "code",
   "execution_count": 72,
   "metadata": {},
   "outputs": [],
   "source": [
    "def dp(month, in_stock_units, units_being_produced, costs, choices):\n",
    "    if month == 3:\n",
    "        return get_stock_cost(in_stock_units) + get_prodution_cost(units_being_produced, month)\n",
    "    else:\n",
    "\n",
    "        cost_min = 99999999999999999999\n",
    "        u_min = 99999999999999999999\n",
    "\n",
    "        for produced_units in U_k:\n",
    "\n",
    "            final_stock = get_final_stock(month, in_stock_units, produced_units)  # x_k+1 = f_k(xk, uk)\n",
    "            \n",
    "            if 0 < final_stock < MAX_STOCK:\n",
    "                onward_cost = dp(month + 1, final_stock, produced_units, costs, choices)\n",
    "                if onward_cost < 0:\n",
    "                    continue\n",
    "                else:\n",
    "                    cost = get_stock_cost(final_stock) + get_prodution_change_cost(produced_units, units_being_produced) + get_prodution_cost(produced_units, month) + onward_cost\n",
    "                    if cost < cost_min:\n",
    "                        cost_min = cost\n",
    "                        u_min = produced_units\n",
    "\n",
    "        if u_min == 99999999999999999999:\n",
    "            return -1\n",
    "        else:\n",
    "            costs[(month, in_stock_units, units_being_produced)] = cost_min\n",
    "            choices[(month, in_stock_units, units_being_produced)] = u_min\n",
    "            return cost_min\n",
    "                "
   ]
  },
  {
   "cell_type": "code",
   "execution_count": 75,
   "metadata": {
    "tags": []
   },
   "outputs": [
    {
     "name": "stdout",
     "output_type": "stream",
     "text": [
      "Mes   Estoque   Unidades que estavam sendo produzidas    Unidades a serem produzidas     Custo otimo acumulado\n",
      "  2         1   3                                     -> 1                               9\n",
      "  1         2   3                                     -> 3                               25\n",
      "  0         1   1                                     -> 3                               40\n"
     ]
    }
   ],
   "source": [
    "costs_ = {}\n",
    "choices_ = {}\n",
    "\n",
    "# Execucao do algoritmo\n",
    "dp(0, X_0, P_0, costs_, choices_)\n",
    "\n",
    "# Print de todas as escolhas otimas calculadas\n",
    "print(\"Mes   Estoque   Uni. produz. antes    Uni. produ. depois    Custo otimo acumulado\")\n",
    "for choice in choices_:\n",
    "    # print(choice, choices_[choice])\n",
    "    print(\"  {}         {}   {}                                     -> {}                               {}\".format(choice[0], choice[1], choice[2], choices_[choice], costs_[choice]))"
   ]
  },
  {
   "cell_type": "code",
   "execution_count": null,
   "metadata": {},
   "outputs": [],
   "source": []
  }
 ],
 "metadata": {
  "kernelspec": {
   "display_name": "Python 3",
   "language": "python",
   "name": "python3"
  },
  "language_info": {
   "codemirror_mode": {
    "name": "ipython",
    "version": 3
   },
   "file_extension": ".py",
   "mimetype": "text/x-python",
   "name": "python",
   "nbconvert_exporter": "python",
   "pygments_lexer": "ipython3",
   "version": "3.8.2"
  }
 },
 "nbformat": 4,
 "nbformat_minor": 4
}
