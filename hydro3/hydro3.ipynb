{
 "cells": [
  {
   "cell_type": "markdown",
   "metadata": {},
   "source": [
    "Planejamento da Produção de Energia Elétrica 3"
   ]
  },
  {
   "cell_type": "code",
   "execution_count": 168,
   "metadata": {
    "tags": []
   },
   "outputs": [],
   "source": [
    "#                 Jan.  Feb.  Mar.  Apr.  May   Jun.  Jul.  Aug.  Sep.  Oct.  Nov.  Dec.\n",
    "demands =        [2800, 2500, 2300, 2500, 2600, 2800, 2800, 2600, 2600, 2800, 3000, 3100] # in [MW * Month]\n",
    "avg_flow_rate =  [[6375, 7741, 9107, 10473, 11839], # Jan.\n",
    "                  [5382, 6535, 7688,  8841,  9995], # Feb.\n",
    "                  [6550, 7954, 9358, 10762, 12165], # Mar.\n",
    "                  [4756, 5775, 6794,  7814,  8832], # Apr.\n",
    "                  [3012, 3658, 4303,  4948,  5594], # May\n",
    "                  [2473, 3003, 3533,  4063,  4593], # Jun.\n",
    "                  [2007, 2437, 2867,  3297,  3727], # Jul.\n",
    "                  [1790, 2173, 2557,  2941,  3324], # Aug.\n",
    "                  [1520, 1845, 2171,  2497,  2822], # Sep.\n",
    "                  [1573, 1910, 2247,  2584,  2921], # Oct.\n",
    "                  [2462, 2989, 3517,  4045,  4572], # Nov.\n",
    "                  [2926, 3553, 4180,  4807,  5434]] # Dez.\n",
    "                  # in [(m^3)/s]\n",
    "\n",
    "avg_flow_rate_prob = [0.1, 0.2, 0.4, 0.2, 0.1]\n",
    "\n",
    "# Hydro Power plant characteristics\n",
    "MAX_PRODUCTION = 3230   # in [MW * Month]\n",
    "\n",
    "# Reservoir characteristics\n",
    "X_MAX   = 21200         # in [10^6 m^3]\n",
    "X_MIN   = 12800         # in [10^6 m^3]\n",
    "X_FINAL = 15000         # in [10^6 m^3]\n",
    "\n",
    "DRENAGE_MAX = 8000     # in [(m^3)/s]\n",
    "U_MAX       = 7955      # in [(m^3)/s]\n",
    "U_MIN       = 1400      # in [(m^3)/s]\n",
    "\n",
    "N_COEF  = 0.88\n",
    "GRAVITY_ACC_COEF = 9.88 # in [m/s^2]\n",
    "\n",
    "MONTHS_TO_CALCULATE = 12"
   ]
  },
  {
   "cell_type": "code",
   "execution_count": 169,
   "metadata": {},
   "outputs": [],
   "source": [
    "# Generators\n",
    "\n",
    "def U_k():\n",
    "    step = 100   # u_k's vão de 10 em 10\n",
    "    num = U_MIN\n",
    "    while num < DRENAGE_MAX:\n",
    "        yield num\n",
    "        num += step     "
   ]
  },
  {
   "cell_type": "code",
   "execution_count": 170,
   "metadata": {},
   "outputs": [],
   "source": [
    "#Funcoes auxiliares\n",
    "\n",
    "def get_thermal_production_cost(g):\n",
    "    return int(64.8 * (g**2))\n",
    "\n",
    "# x is the reservoir volume in [10^6 m^3]\n",
    "def h_1(x):\n",
    "    return 303.04 + (0.15519e-2 * x) - (0.17377e-7 * x**2)\n",
    "\n",
    "def h_2(u):\n",
    "    return 279.84 + (0.22130e-3 * u)\n",
    "\n",
    "def h(x,u):\n",
    "    p = N_COEF * GRAVITY_ACC_COEF * 1e-3\n",
    "\n",
    "    considered_u = u\n",
    "    if u > U_MAX:\n",
    "        considered_u = U_MAX\n",
    "    elif u < U_MIN:\n",
    "        considered_u = 0\n",
    "\n",
    "    power_generariton = p * (h_1(x)-h_2(u)) * u\n",
    "    return int(power_generariton) if power_generariton < MAX_PRODUCTION else MAX_PRODUCTION\n",
    "\n",
    "def get_operation_cost(hydro_production, demand):\n",
    "    if demand > hydro_production:\n",
    "        return get_thermal_production_cost(demand - hydro_production)\n",
    "    else:\n",
    "        return 0\n",
    "\n",
    "# fk(xk,uk)\n",
    "def get_reservoir_volume(current_volume, water_out, water_in):\n",
    "    return int(current_volume + (2.628 * (water_in - water_out)))\n",
    "\n",
    "\n",
    "def get_volume_cost(volume):\n",
    "    return int(0.0247 * (volume -12800) * 1e6)\n",
    "\n"
   ]
  },
  {
   "cell_type": "code",
   "execution_count": 172,
   "metadata": {},
   "outputs": [],
   "source": [
    "def dp(month, current_reservoir_volume, costs_, choices_):\n",
    "    if month == MONTHS_TO_CALCULATE:\n",
    "        # Caso base (sem recursao)\n",
    "        if current_reservoir_volume < X_FINAL:  # Condição final de factibiliade\n",
    "            return -1                           # Estado infactivel (-1 representa infactibilidade) \n",
    "        else:\n",
    "            return get_volume_cost(current_reservoir_volume)\n",
    "    else:\n",
    "\n",
    "        if (month, current_reservoir_volume) in costs_:         # verifica se esse estado ja não foi calculado e retorna\n",
    "            return costs_[(month, current_reservoir_volume)]\n",
    "\n",
    "        cost_min = 9999999999999999999999   # F_aux <- inf\n",
    "        u_min    = 9999999999999999999999   # U_oaux <- inf\n",
    "\n",
    "        for u_k in U_k():                   # for ∀uk ∈ Uk do\n",
    "\n",
    "            cost = 0                        # Fxu_aux <- 0\n",
    "            sable_state     = False # Variavel aux. que modela se esse u_k, dado todas w_k, possui algum estado factivel\n",
    "            has_some_infeasable_state   = False # Variavel aux. que modela se esse u_k, dado todas w_k, possui algum estado infactivel\n",
    "            has_some_feasable_state     = False # Variavel aux. que modela se esse u_k, dado todas w_k, possui algum estado factivel\n",
    "\n",
    "            for index, potencial_flow in enumerate(avg_flow_rate[month]):\n",
    "\n",
    "\n",
    "                probability = avg_flow_rate_prob[index]\n",
    "                potencial_reservoir_volume = get_reservoir_volume(current_reservoir_volume, u_k, potencial_flow)\n",
    "\n",
    "                    \n",
    "                if X_MIN < potencial_reservoir_volume < X_MAX:    # Verifica factibilidade do estado x_k+1\n",
    "                    onward_cost = dp(month + 1, potencial_reservoir_volume, costs_, choices_) # calculo de F(x_k+1)\n",
    "                        \n",
    "                    if onward_cost >= 0:\n",
    "                        has_some_feasable_state = True\n",
    "                        cost = probability * (get_operation_cost(h(current_reservoir_volume, u_k), demands[month]) + onward_cost) + cost\n",
    "\n",
    "                # else:\n",
    "                #     has_some_infeasable_state = True\n",
    "\n",
    "            if cost < cost_min and has_some_feasable_state :\n",
    "                # if month == 0:\n",
    "                #     print(cost)\n",
    "                cost_min = cost\n",
    "                u_min = u_k\n",
    "\n",
    "        if u_min == 9999999999999999999999:\n",
    "            return -1\n",
    "        else:\n",
    "            costs_[(month, current_reservoir_volume)] = cost_min\n",
    "            choices_[(month, current_reservoir_volume)] = u_min\n",
    "            return cost_min"
   ]
  },
  {
   "cell_type": "code",
   "execution_count": 173,
   "metadata": {
    "tags": []
   },
   "outputs": [
    {
     "name": "stdout",
     "output_type": "stream",
     "text": [
      "Custo medio acumulado:  22149.897628828756\n",
      "Numero total de tomadas de decisão calculadas:  68648\n"
     ]
    }
   ],
   "source": [
    "# Dicionarios para carregar custos otimos acumulados e escolhas otimas. Inves de ter um par de dicionarios por estado k, o estado k foi adicionado como uma das dimensões de X. Por Exemplo, a tupla (3, 16000) mapeia o estado X_3 = 16000\n",
    "costs_      = {}\n",
    "choices_    = {}\n",
    "\n",
    "# Execução do algoritmo a partir do estado inicial\n",
    "custo = dp(0, 15000, costs_, choices_)\n",
    "\n",
    "print(\"Custo medio acumulado: \", custo)\n",
    "\n",
    "print(\"Numero total de tomadas de decisão calculadas: \", len(choices_))\n"
   ]
  }
 ],
 "metadata": {
  "kernelspec": {
   "display_name": "Python 3",
   "language": "python",
   "name": "python3"
  },
  "language_info": {
   "codemirror_mode": {
    "name": "ipython",
    "version": 3
   },
   "file_extension": ".py",
   "mimetype": "text/x-python",
   "name": "python",
   "nbconvert_exporter": "python",
   "pygments_lexer": "ipython3",
   "version": "3.8.2"
  }
 },
 "nbformat": 4,
 "nbformat_minor": 4
}
